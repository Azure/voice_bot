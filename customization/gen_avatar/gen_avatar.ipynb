{
 "cells": [
  {
   "cell_type": "code",
   "execution_count": 5,
   "metadata": {},
   "outputs": [],
   "source": [
    "from gen_avatars import gen_dalle_img, gen_dalle_img_prompt\n",
    "import gradio as gr\n",
    "import os, json\n",
    "\n",
    "avatar_folder = \"assets/avatars\"\n",
    "if not os.path.exists(avatar_folder):\n",
    "    os.makedirs(avatar_folder)\n",
    "\n",
    "\n",
    "def generate_avatars(theme):\n",
    "\n",
    "    persona = \"bot\"\n",
    "    bot_file_name = f\"{avatar_folder}/{theme}_{persona}.png\"\n",
    "    gen_dalle_img(theme, persona, bot_file_name)\n",
    "\n",
    "    persona = \"human\"\n",
    "    human_file_name = f\"{avatar_folder}/{theme}_{persona}.png\"\n",
    "    gen_dalle_img(theme, persona, human_file_name)\n",
    "\n",
    "    return bot_file_name, human_file_name\n",
    "\n",
    "def load_prompts(theme):\n",
    "    with open('config.json', 'r') as f:\n",
    "        config = json.load(f)\n",
    "    # Assuming the theme is a key to match in the config\n",
    "    if theme in config.keys():\n",
    "        bot_prompt = config[theme][\"bot\"]\n",
    "        human_prompt = config[theme][\"human\"]\n",
    "    else:\n",
    "        bot_prompt, human_prompt = gen_dalle_img_prompt(theme) \n",
    "    return bot_prompt, human_prompt\n",
    "\n",
    "# Create a Gradio interface\n",
    "\n",
    "\n",
    "\n"
   ]
  },
  {
   "cell_type": "code",
   "execution_count": 10,
   "metadata": {},
   "outputs": [],
   "source": [
    "with gr.Blocks() as demo:\n",
    "    gr.Markdown(\"# Avatar Generator based on Theme\")\n",
    "    \n",
    "    theme_input = gr.Textbox(label=\"Theme\", placeholder=\"Enter theme for avatar generation\")\n",
    "    \n",
    "    generate_prompt_button = gr.Button(\"Get Prompts\")\n",
    "    bot_prompt_output = gr.Textbox(label=\"Bot Avatar Prompt\", interactive=False)\n",
    "    human_prompt_output = gr.Textbox(label=\"Human Avatar Prompt\", interactive=False)\n",
    "    \n",
    "    bot_img_output = gr.Image(label=\"Bot Avatar\")\n",
    "    human_img_output = gr.Image(label=\"Human Avatar\")\n",
    "    \n",
    "    \n",
    "    generate_prompt_button.click(fn=load_prompts, \n",
    "                          inputs=[theme_input], \n",
    "                          outputs=[bot_prompt_output, human_prompt_output])\n",
    "    \n",
    "    generate_avatar_button = gr.Button(\"Generate Avatars\")\n",
    "    \n",
    "    generate_avatar_button.click(fn=generate_avatars, \n",
    "                          inputs=[theme_input], \n",
    "                          outputs=[bot_img_output, human_img_output])\n",
    "\n",
    "demo.launch(server_port=7867)"
   ]
  },
  {
   "cell_type": "code",
   "execution_count": null,
   "metadata": {},
   "outputs": [],
   "source": []
  }
 ],
 "metadata": {
  "kernelspec": {
   "display_name": "Python 3 (ipykernel)",
   "language": "python",
   "name": "python3"
  },
  "language_info": {
   "codemirror_mode": {
    "name": "ipython",
    "version": 3
   },
   "file_extension": ".py",
   "mimetype": "text/x-python",
   "name": "python",
   "nbconvert_exporter": "python",
   "pygments_lexer": "ipython3",
   "version": "3.9.16"
  }
 },
 "nbformat": 4,
 "nbformat_minor": 2
}
